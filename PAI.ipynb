{
  "nbformat": 4,
  "nbformat_minor": 0,
  "metadata": {
    "colab": {
      "provenance": [],
      "authorship_tag": "ABX9TyN9V6/8GRKu168lElSSEH2N",
      "include_colab_link": true
    },
    "kernelspec": {
      "name": "python3",
      "display_name": "Python 3"
    },
    "language_info": {
      "name": "python"
    }
  },
  "cells": [
    {
      "cell_type": "markdown",
      "metadata": {
        "id": "view-in-github",
        "colab_type": "text"
      },
      "source": [
        "<a href=\"https://colab.research.google.com/github/Ajay80747/PAI-/blob/main/PAI.ipynb\" target=\"_parent\"><img src=\"https://colab.research.google.com/assets/colab-badge.svg\" alt=\"Open In Colab\"/></a>"
      ]
    },
    {
      "cell_type": "code",
      "execution_count": 3,
      "metadata": {
        "colab": {
          "base_uri": "https://localhost:8080/"
        },
        "id": "O_nof9O-TOU_",
        "outputId": "023837e6-157e-45cf-857d-8d1d29eba0d6"
      },
      "outputs": [
        {
          "output_type": "stream",
          "name": "stdout",
          "text": [
            "=== Welcome to the Number Guessing Game ===\n",
            "\n",
            "1. Play Game\n",
            "2. Exit\n",
            "Enter your choice (1 or 2): 1\n",
            "\n",
            "🎲 I'm thinking of a number between 1 and 100. Can you guess it?\n",
            "Enter your guess: 56\n",
            "Too low! Try again.\n",
            "Enter your guess: 78\n",
            "Too low! Try again.\n",
            "Enter your guess: 99\n",
            "🎉 Correct! You guessed it in 3 attempts.\n",
            "\n",
            "\n",
            "1. Play Game\n",
            "2. Exit\n",
            "Enter your choice (1 or 2): 2\n",
            "👋 Thanks for playing! Goodbye.\n"
          ]
        }
      ],
      "source": [
        "import random\n",
        "\n",
        "def guess_the_number():\n",
        "    number_to_guess = random.randint(1, 100)\n",
        "    attempts = 0\n",
        "    print(\"\\n🎲 I'm thinking of a number between 1 and 100. Can you guess it?\")\n",
        "\n",
        "    while True:\n",
        "        try:\n",
        "            user_guess = int(input(\"Enter your guess: \"))\n",
        "            attempts += 1\n",
        "\n",
        "            if user_guess < number_to_guess:\n",
        "                print(\"Too low! Try again.\")\n",
        "            elif user_guess > number_to_guess:\n",
        "                print(\"Too high! Try again.\")\n",
        "            else:\n",
        "                print(f\"🎉 Correct! You guessed it in {attempts} attempts.\\n\")\n",
        "                break\n",
        "        except ValueError:\n",
        "            print(\"⚠️ Please enter a valid number.\")\n",
        "\n",
        "def main():\n",
        "    print(\"=== Welcome to the Number Guessing Game ===\")\n",
        "    while True:\n",
        "        print(\"\\n1. Play Game\")\n",
        "        print(\"2. Exit\")\n",
        "        choice = input(\"Enter your choice (1 or 2): \")\n",
        "\n",
        "        if choice == '1':\n",
        "            guess_the_number()\n",
        "        elif choice == '2':\n",
        "            print(\"👋 Thanks for playing! Goodbye.\")\n",
        "            break\n",
        "        else:\n",
        "            print(\"⚠️ Invalid choice. Please select 1 or 2.\")\n",
        "\n",
        "# Start the game\n",
        "main()\n",
        "\n"
      ]
    },
    {
      "cell_type": "code",
      "source": [],
      "metadata": {
        "id": "A3D159UYTO5M"
      },
      "execution_count": null,
      "outputs": []
    }
  ]
}